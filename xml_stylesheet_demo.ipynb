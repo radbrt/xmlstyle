{
 "cells": [
  {
   "cell_type": "code",
   "execution_count": 1,
   "metadata": {},
   "outputs": [],
   "source": [
    "import pandas as pd\n",
    "from lxml import etree"
   ]
  },
  {
   "cell_type": "markdown",
   "metadata": {},
   "source": [
    "First, we want to illustrate how to use pandas' `read_xml` and XSLT, to read hierarchical data into a data frame."
   ]
  },
  {
   "cell_type": "code",
   "execution_count": 2,
   "metadata": {},
   "outputs": [],
   "source": [
    "df = pd.read_xml(\n",
    "  'data.xml', \n",
    "  stylesheet='transform.xslt'\n",
    "  )"
   ]
  },
  {
   "cell_type": "markdown",
   "metadata": {},
   "source": [
    "The first argument is the XML data, the second argument is the XSLT stylesheet that contains the transformation.\n",
    "\n",
    "Now, let's see how this looks:"
   ]
  },
  {
   "cell_type": "code",
   "execution_count": 3,
   "metadata": {},
   "outputs": [
    {
     "data": {
      "text/html": [
       "<div>\n",
       "<style scoped>\n",
       "    .dataframe tbody tr th:only-of-type {\n",
       "        vertical-align: middle;\n",
       "    }\n",
       "\n",
       "    .dataframe tbody tr th {\n",
       "        vertical-align: top;\n",
       "    }\n",
       "\n",
       "    .dataframe thead th {\n",
       "        text-align: right;\n",
       "    }\n",
       "</style>\n",
       "<table border=\"1\" class=\"dataframe\">\n",
       "  <thead>\n",
       "    <tr style=\"text-align: right;\">\n",
       "      <th></th>\n",
       "      <th>CustomerNumber</th>\n",
       "      <th>Address</th>\n",
       "    </tr>\n",
       "  </thead>\n",
       "  <tbody>\n",
       "    <tr>\n",
       "      <th>0</th>\n",
       "      <td>1</td>\n",
       "      <td>London</td>\n",
       "    </tr>\n",
       "    <tr>\n",
       "      <th>1</th>\n",
       "      <td>1</td>\n",
       "      <td>Hull</td>\n",
       "    </tr>\n",
       "    <tr>\n",
       "      <th>2</th>\n",
       "      <td>2</td>\n",
       "      <td>Birmingham</td>\n",
       "    </tr>\n",
       "    <tr>\n",
       "      <th>3</th>\n",
       "      <td>2</td>\n",
       "      <td>Manchester</td>\n",
       "    </tr>\n",
       "  </tbody>\n",
       "</table>\n",
       "</div>"
      ],
      "text/plain": [
       "   CustomerNumber     Address\n",
       "0               1      London\n",
       "1               1        Hull\n",
       "2               2  Birmingham\n",
       "3               2  Manchester"
      ]
     },
     "execution_count": 3,
     "metadata": {},
     "output_type": "execute_result"
    }
   ],
   "source": [
    "df.head()"
   ]
  },
  {
   "cell_type": "markdown",
   "metadata": {},
   "source": [
    "But what happened here?\n",
    "\n",
    "We wanted to extract the content of the DetailSubRecord, but need to also grab the customer ID so that we know which customer the data belongs to.\n",
    "\n",
    "The XSLT contains two templates: One that simply matches the root and creates a root element, and then populates it with the output from the second template. This second template matches each DetailSubRecord element, but is able to also fetch the customer id from the parent element.\n",
    "\n",
    "The first template, that siply creates a root:\n",
    "\n",
    "```xml\n",
    "  <xsl:template match=\"/root\">\n",
    "    <root>\n",
    "      <xsl:apply-templates select=\"DetailRecord/DetailSubRecord\"/>\n",
    "    </root>\n",
    "  </xsl:template>\n",
    "```\n",
    "\n",
    "The second part template:\n",
    "\n",
    "```xml\n",
    "  <xsl:template match=\"DetailSubRecord\">\n",
    "    <DetailSubRecord>\n",
    "      <CustomerNumber>\n",
    "        <xsl:value-of select=\"../CustomerNumber\"/>\n",
    "      </CustomerNumber>\n",
    "      <Address>\n",
    "        <xsl:value-of select=\"Address\"/>\n",
    "      </Address>\n",
    "    </DetailSubRecord>\n",
    "  </xsl:template>\n",
    "</xsl:stylesheet>\n",
    "```\n",
    "\n",
    "This constructs a new xml with the structure seen above.\n",
    "\n",
    "Let's demonstrate this by parsing the file with `lxml` directly."
   ]
  },
  {
   "cell_type": "code",
   "execution_count": 4,
   "metadata": {},
   "outputs": [
    {
     "name": "stdout",
     "output_type": "stream",
     "text": [
      "<?xml version=\"1.0\"?>\n",
      "<root>\n",
      "  <DetailSubRecord>\n",
      "    <CustomerNumber>1</CustomerNumber>\n",
      "    <Address>London</Address>\n",
      "  </DetailSubRecord>\n",
      "  <DetailSubRecord>\n",
      "    <CustomerNumber>1</CustomerNumber>\n",
      "    <Address>Hull</Address>\n",
      "  </DetailSubRecord>\n",
      "  <DetailSubRecord>\n",
      "    <CustomerNumber>2</CustomerNumber>\n",
      "    <Address>Birmingham</Address>\n",
      "  </DetailSubRecord>\n",
      "  <DetailSubRecord>\n",
      "    <CustomerNumber>2</CustomerNumber>\n",
      "    <Address>Manchester</Address>\n",
      "  </DetailSubRecord>\n",
      "</root>\n",
      "\n"
     ]
    }
   ],
   "source": [
    "\n",
    "with open('data.xml') as f:\n",
    "    xml = f.read()\n",
    "\n",
    "with open('transform.xslt') as f:\n",
    "    xslt = f.read()\n",
    "\n",
    "dom = etree.XML(xml)\n",
    "xslt = etree.XML(xslt)\n",
    "transform = etree.XSLT(xslt)\n",
    "newdom = transform(dom)\n",
    "\n",
    "print(str(newdom))"
   ]
  },
  {
   "cell_type": "markdown",
   "metadata": {},
   "source": [
    "This, essentially, is what pandas reads and is able to parse. Just one, flat XML with rows directly below the root element."
   ]
  }
 ],
 "metadata": {
  "kernelspec": {
   "display_name": "py_jottings",
   "language": "python",
   "name": "python3"
  },
  "language_info": {
   "codemirror_mode": {
    "name": "ipython",
    "version": 3
   },
   "file_extension": ".py",
   "mimetype": "text/x-python",
   "name": "python",
   "nbconvert_exporter": "python",
   "pygments_lexer": "ipython3",
   "version": "3.10.9"
  }
 },
 "nbformat": 4,
 "nbformat_minor": 2
}
